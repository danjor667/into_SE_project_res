{
 "cells": [
  {
   "cell_type": "markdown",
   "metadata": {
    "id": "sKCvjsCcut43"
   },
   "source": [
    "# Diabetes Prediction"
   ]
  },
  {
   "cell_type": "markdown",
   "metadata": {
    "id": "OlnLNi1_MBSL"
   },
   "source": [
    "Link to the Dataset:\n",
    "[Pima Indians Diabetes Database](https://www.kaggle.com/datasets/uciml/pima-indians-diabetes-database)"
   ]
  },
  {
   "cell_type": "markdown",
   "metadata": {},
   "source": [
    "#About Dataset:\n",
    "##`Context`\n",
    "This dataset is originally from the National Institute of Diabetes and Digestive and Kidney Diseases. The objective of the dataset is to diagnostically predict whether or not a patient has diabetes, based on certain diagnostic measurements included in the dataset. Several constraints were placed on the selection of these instances from a larger database. In particular, all patients here are females at least 21 years old of Pima Indian heritage.\n",
    "\n",
    "##`Content`\n",
    "The datasets consists of several medical predictor variables and one target variable, Outcome. Predictor variables includes the number of pregnancies the patient has had, their BMI, insulin level, age, and so on."
   ]
  },
  {
   "cell_type": "code",
   "execution_count": 1,
   "metadata": {
    "execution": {
     "iopub.execute_input": "2024-05-15T03:20:53.677414Z",
     "iopub.status.busy": "2024-05-15T03:20:53.676999Z",
     "iopub.status.idle": "2024-05-15T03:20:54.144735Z",
     "shell.execute_reply": "2024-05-15T03:20:54.143633Z",
     "shell.execute_reply.started": "2024-05-15T03:20:53.677382Z"
    },
    "id": "15WXrqvfusaI"
   },
   "outputs": [
    {
     "ename": "ModuleNotFoundError",
     "evalue": "No module named 'pandas'",
     "output_type": "error",
     "traceback": [
      "\u001b[0;31m---------------------------------------------------------------------------\u001b[0m",
      "\u001b[0;31mModuleNotFoundError\u001b[0m                       Traceback (most recent call last)",
      "Cell \u001b[0;32mIn[1], line 1\u001b[0m\n\u001b[0;32m----> 1\u001b[0m \u001b[38;5;28;01mimport\u001b[39;00m \u001b[38;5;21;01mpandas\u001b[39;00m \u001b[38;5;28;01mas\u001b[39;00m \u001b[38;5;21;01mpd\u001b[39;00m\n\u001b[1;32m      2\u001b[0m \u001b[38;5;28;01mimport\u001b[39;00m \u001b[38;5;21;01mnumpy\u001b[39;00m \u001b[38;5;28;01mas\u001b[39;00m \u001b[38;5;21;01mnp\u001b[39;00m\n",
      "\u001b[0;31mModuleNotFoundError\u001b[0m: No module named 'pandas'"
     ]
    }
   ],
   "source": [
    "import pandas as pd\n",
    "import numpy as np"
   ]
  },
  {
   "cell_type": "code",
   "execution_count": null,
   "metadata": {
    "execution": {
     "iopub.execute_input": "2024-05-15T03:20:54.147274Z",
     "iopub.status.busy": "2024-05-15T03:20:54.146692Z",
     "iopub.status.idle": "2024-05-15T03:20:54.151759Z",
     "shell.execute_reply": "2024-05-15T03:20:54.150885Z",
     "shell.execute_reply.started": "2024-05-15T03:20:54.147232Z"
    },
    "id": "U_W-eavPyLD9"
   },
   "outputs": [],
   "source": [
    "# set seed for reproducibility\n",
    "SEED = 20\n",
    "np.random.seed(SEED)"
   ]
  },
  {
   "cell_type": "code",
   "execution_count": null,
   "metadata": {
    "execution": {
     "iopub.execute_input": "2024-05-15T03:20:54.153375Z",
     "iopub.status.busy": "2024-05-15T03:20:54.152794Z",
     "iopub.status.idle": "2024-05-15T03:20:54.201511Z",
     "shell.execute_reply": "2024-05-15T03:20:54.200548Z",
     "shell.execute_reply.started": "2024-05-15T03:20:54.153346Z"
    },
    "id": "IMwQp-r8ylN9",
    "outputId": "0536acde-c648-465f-bbb2-543d927c0b79"
   },
   "outputs": [],
   "source": [
    "# Loading Data\n",
    "df = pd.read_csv('../input/pima-indians-diabetes-database/diabetes.csv')\n",
    "df.head()"
   ]
  },
  {
   "cell_type": "markdown",
   "metadata": {
    "id": "UDHUDMCszuNC"
   },
   "source": [
    "# Exploratory Data Analysis"
   ]
  },
  {
   "cell_type": "code",
   "execution_count": null,
   "metadata": {
    "execution": {
     "iopub.execute_input": "2024-05-15T03:20:54.204779Z",
     "iopub.status.busy": "2024-05-15T03:20:54.204044Z",
     "iopub.status.idle": "2024-05-15T03:20:54.216357Z",
     "shell.execute_reply": "2024-05-15T03:20:54.215036Z",
     "shell.execute_reply.started": "2024-05-15T03:20:54.204664Z"
    },
    "id": "Op-XGDHwz03Q",
    "outputId": "c8077d6a-5b62-4096-b952-afa09a7b721e"
   },
   "outputs": [],
   "source": [
    "# checking null values\n",
    "df.isnull().sum()"
   ]
  },
  {
   "cell_type": "code",
   "execution_count": null,
   "metadata": {
    "execution": {
     "iopub.execute_input": "2024-05-15T03:20:54.218599Z",
     "iopub.status.busy": "2024-05-15T03:20:54.218179Z",
     "iopub.status.idle": "2024-05-15T03:20:54.245638Z",
     "shell.execute_reply": "2024-05-15T03:20:54.244465Z",
     "shell.execute_reply.started": "2024-05-15T03:20:54.218563Z"
    },
    "id": "v2KDfXpnz9uM",
    "outputId": "dbd3ca88-ef2f-4787-ac8a-890e5fef5e59"
   },
   "outputs": [],
   "source": [
    "df.info()"
   ]
  },
  {
   "cell_type": "code",
   "execution_count": null,
   "metadata": {
    "execution": {
     "iopub.execute_input": "2024-05-15T03:20:54.247511Z",
     "iopub.status.busy": "2024-05-15T03:20:54.247178Z",
     "iopub.status.idle": "2024-05-15T03:20:54.25914Z",
     "shell.execute_reply": "2024-05-15T03:20:54.258038Z",
     "shell.execute_reply.started": "2024-05-15T03:20:54.247482Z"
    },
    "id": "TLK7G2bZ0Da1",
    "outputId": "008eb5ee-2855-490b-9fe5-7b5de7633913"
   },
   "outputs": [],
   "source": [
    "# Check for zero values in all columns\n",
    "zero_values = (df == 0).sum()\n",
    "\n",
    "# Display the columns with zero values\n",
    "print(\"Columns with zero values:\")\n",
    "print(zero_values[zero_values > 0])\n"
   ]
  },
  {
   "cell_type": "markdown",
   "metadata": {
    "id": "jEeynUVD2xLj"
   },
   "source": [
    "We have many zero values will definetely effect the model accuracy. We need to convert them with `nan` values."
   ]
  },
  {
   "cell_type": "markdown",
   "metadata": {
    "id": "iaA2ntx93pID"
   },
   "source": [
    "Function to replace zero values with `nan`"
   ]
  },
  {
   "cell_type": "code",
   "execution_count": null,
   "metadata": {
    "execution": {
     "iopub.execute_input": "2024-05-15T03:20:54.261377Z",
     "iopub.status.busy": "2024-05-15T03:20:54.260896Z",
     "iopub.status.idle": "2024-05-15T03:20:54.276137Z",
     "shell.execute_reply": "2024-05-15T03:20:54.27522Z",
     "shell.execute_reply.started": "2024-05-15T03:20:54.261338Z"
    },
    "id": "GnLelDTD3SHW"
   },
   "outputs": [],
   "source": [
    "def replace_zero(df):\n",
    "    df_nan=df.copy(deep=True)\n",
    "    cols = [\"Glucose\",\"BloodPressure\",\"SkinThickness\",\"Insulin\",\"BMI\"]\n",
    "    df_nan[cols] = df_nan[cols].replace({0:np.nan})\n",
    "    return df_nan\n",
    "df_nan=replace_zero(df)"
   ]
  },
  {
   "cell_type": "code",
   "execution_count": null,
   "metadata": {
    "execution": {
     "iopub.execute_input": "2024-05-15T03:20:54.277924Z",
     "iopub.status.busy": "2024-05-15T03:20:54.277527Z",
     "iopub.status.idle": "2024-05-15T03:20:54.287825Z",
     "shell.execute_reply": "2024-05-15T03:20:54.28682Z",
     "shell.execute_reply.started": "2024-05-15T03:20:54.277887Z"
    },
    "id": "3-Bcd4Av6vN7"
   },
   "outputs": [],
   "source": [
    "def find_median(frame,var):\n",
    "    temp = frame[frame[var].notnull()]\n",
    "    temp = frame[[var,'Outcome']].groupby('Outcome')[[var]].median().reset_index()\n",
    "    return temp"
   ]
  },
  {
   "cell_type": "code",
   "execution_count": null,
   "metadata": {
    "execution": {
     "iopub.execute_input": "2024-05-15T03:20:54.289515Z",
     "iopub.status.busy": "2024-05-15T03:20:54.289031Z",
     "iopub.status.idle": "2024-05-15T03:20:54.299991Z",
     "shell.execute_reply": "2024-05-15T03:20:54.298772Z",
     "shell.execute_reply.started": "2024-05-15T03:20:54.289443Z"
    },
    "id": "ssojfaBmEEdU"
   },
   "outputs": [],
   "source": [
    "# function to replace null values\n",
    "def replace_null(frame,var):\n",
    "    median_df=find_median(frame,var)\n",
    "    var_0=median_df[var].iloc[0]\n",
    "    var_1=median_df[var].iloc[1]\n",
    "    frame.loc[(frame['Outcome'] == 0) & (frame[var].isnull()), var] = var_0\n",
    "    frame.loc[(frame['Outcome'] == 1) & (frame[var].isnull()), var] = var_1\n",
    "    return frame[var].isnull().sum()"
   ]
  },
  {
   "cell_type": "code",
   "execution_count": null,
   "metadata": {
    "execution": {
     "iopub.execute_input": "2024-05-15T03:20:54.306061Z",
     "iopub.status.busy": "2024-05-15T03:20:54.305327Z",
     "iopub.status.idle": "2024-05-15T03:20:54.345181Z",
     "shell.execute_reply": "2024-05-15T03:20:54.343987Z",
     "shell.execute_reply.started": "2024-05-15T03:20:54.30602Z"
    },
    "id": "6cskyYbwJ7x2",
    "outputId": "2ae22726-a2b7-42b0-ee52-a1b3b212ed31"
   },
   "outputs": [],
   "source": [
    "print(str(replace_null(df_nan,'Glucose'))+ ' Nulls for Glucose')\n",
    "print(str(replace_null(df_nan,'SkinThickness'))+ ' Nulls for SkinThickness')\n",
    "print(str(replace_null(df_nan,'Insulin'))+ ' Nulls for Insulin')\n",
    "print(str(replace_null(df_nan,'BMI'))+ ' Nulls for BMI')\n",
    "print(str(replace_null(df_nan,'BloodPressure'))+ ' Nulls for BloodPressure')\n",
    "# We have successfully handled Nulls"
   ]
  },
  {
   "cell_type": "markdown",
   "metadata": {
    "id": "kdfwbmMPNtPk"
   },
   "source": [
    "All null values has been successfully imputed with their median.\n"
   ]
  },
  {
   "cell_type": "markdown",
   "metadata": {
    "id": "ZVaqZn1gRUka"
   },
   "source": [
    "### Data Scaling"
   ]
  },
  {
   "cell_type": "code",
   "execution_count": null,
   "metadata": {
    "execution": {
     "iopub.execute_input": "2024-05-15T03:20:54.347446Z",
     "iopub.status.busy": "2024-05-15T03:20:54.347027Z",
     "iopub.status.idle": "2024-05-15T03:20:54.893143Z",
     "shell.execute_reply": "2024-05-15T03:20:54.891804Z",
     "shell.execute_reply.started": "2024-05-15T03:20:54.347407Z"
    },
    "id": "9Qs7jc7tP4hm"
   },
   "outputs": [],
   "source": [
    "# We need to scale our data for uniformity.\n",
    "from sklearn.preprocessing import StandardScaler\n",
    "def std_scalar(df):\n",
    "    std_X = StandardScaler()\n",
    "    x =  pd.DataFrame(std_X.fit_transform(df.drop([\"Outcome\"],axis = 1),),\n",
    "            columns=['Pregnancies', 'Glucose', 'BloodPressure', 'SkinThickness', 'Insulin',\n",
    "           'BMI', 'DiabetesPedigreeFunction', 'Age'])\n",
    "    y=df[\"Outcome\"]\n",
    "    return x,y"
   ]
  },
  {
   "cell_type": "markdown",
   "metadata": {
    "id": "ZxP07JgErNe0"
   },
   "source": [
    "### Data After Scaling"
   ]
  },
  {
   "cell_type": "code",
   "execution_count": null,
   "metadata": {
    "execution": {
     "iopub.execute_input": "2024-05-15T03:20:54.895017Z",
     "iopub.status.busy": "2024-05-15T03:20:54.894617Z",
     "iopub.status.idle": "2024-05-15T03:20:54.939688Z",
     "shell.execute_reply": "2024-05-15T03:20:54.938863Z",
     "shell.execute_reply.started": "2024-05-15T03:20:54.894984Z"
    },
    "id": "l6X0376grUV_",
    "outputId": "b8dbf124-ad02-4008-846f-cf9cd603b449"
   },
   "outputs": [],
   "source": [
    "X,Y=std_scalar(df_nan)\n",
    "X.describe()"
   ]
  },
  {
   "cell_type": "code",
   "execution_count": null,
   "metadata": {
    "execution": {
     "iopub.execute_input": "2024-05-15T03:20:54.941853Z",
     "iopub.status.busy": "2024-05-15T03:20:54.941238Z",
     "iopub.status.idle": "2024-05-15T03:20:54.946924Z",
     "shell.execute_reply": "2024-05-15T03:20:54.945359Z",
     "shell.execute_reply.started": "2024-05-15T03:20:54.941819Z"
    },
    "id": "aMWHNx_LrVdJ"
   },
   "outputs": [],
   "source": [
    "std_x = StandardScaler()"
   ]
  },
  {
   "cell_type": "code",
   "execution_count": null,
   "metadata": {
    "execution": {
     "iopub.execute_input": "2024-05-15T03:20:54.949494Z",
     "iopub.status.busy": "2024-05-15T03:20:54.948688Z",
     "iopub.status.idle": "2024-05-15T03:20:55.083567Z",
     "shell.execute_reply": "2024-05-15T03:20:55.082394Z",
     "shell.execute_reply.started": "2024-05-15T03:20:54.949464Z"
    },
    "id": "w-2tL4uR0rR6"
   },
   "outputs": [],
   "source": [
    "from sklearn.model_selection import train_test_split\n",
    "X_train, X_test, y_train, y_test = train_test_split(X, Y, test_size=0.2, random_state=20, stratify=Y)\n"
   ]
  },
  {
   "cell_type": "markdown",
   "metadata": {
    "id": "ZWzMjrlu1iFL"
   },
   "source": [
    "Let's implement KNN"
   ]
  },
  {
   "cell_type": "code",
   "execution_count": null,
   "metadata": {
    "execution": {
     "iopub.execute_input": "2024-05-15T03:20:55.085247Z",
     "iopub.status.busy": "2024-05-15T03:20:55.084916Z",
     "iopub.status.idle": "2024-05-15T03:20:55.997881Z",
     "shell.execute_reply": "2024-05-15T03:20:55.996509Z",
     "shell.execute_reply.started": "2024-05-15T03:20:55.08522Z"
    },
    "id": "o_YSWzUc9qPJ"
   },
   "outputs": [],
   "source": [
    "from sklearn.neighbors import KNeighborsClassifier\n",
    "test_score = []\n",
    "train_score = []\n",
    "for i in range(5,15):\n",
    "    neigh = KNeighborsClassifier(n_neighbors=i)\n",
    "    neigh.fit(X_train, y_train)\n",
    "    train_score.append(neigh.score(X_train,y_train))\n",
    "    test_score.append(neigh.score(X_test,y_test))"
   ]
  },
  {
   "cell_type": "code",
   "execution_count": null,
   "metadata": {
    "execution": {
     "iopub.execute_input": "2024-05-15T03:20:55.999781Z",
     "iopub.status.busy": "2024-05-15T03:20:55.999333Z",
     "iopub.status.idle": "2024-05-15T03:20:56.007015Z",
     "shell.execute_reply": "2024-05-15T03:20:56.005711Z",
     "shell.execute_reply.started": "2024-05-15T03:20:55.999739Z"
    },
    "id": "3JuDuztv1xWs",
    "outputId": "2b650173-8a87-4a1f-dd8b-ef00e507ce4e"
   },
   "outputs": [],
   "source": [
    "print('Max train_scores is ' + str(max(train_score)*100) + ' for k = '+\n",
    "      str(train_score.index(max(train_score))+5))"
   ]
  },
  {
   "cell_type": "code",
   "execution_count": null,
   "metadata": {
    "execution": {
     "iopub.execute_input": "2024-05-15T03:20:56.008966Z",
     "iopub.status.busy": "2024-05-15T03:20:56.008514Z",
     "iopub.status.idle": "2024-05-15T03:20:56.020064Z",
     "shell.execute_reply": "2024-05-15T03:20:56.018749Z",
     "shell.execute_reply.started": "2024-05-15T03:20:56.00891Z"
    },
    "id": "Iz4yLuzf41AY",
    "outputId": "66337571-0695-495d-b060-13dc89ad541c"
   },
   "outputs": [],
   "source": [
    "print('Max test_scores is ' + str(max(test_score)*100) + \"k =\"+\n",
    "      str(test_score.index(max(test_score))+5))"
   ]
  },
  {
   "cell_type": "markdown",
   "metadata": {
    "id": "E0e1Z_F6PT-k"
   },
   "source": [
    "###Logistic regression"
   ]
  },
  {
   "cell_type": "code",
   "execution_count": null,
   "metadata": {
    "execution": {
     "iopub.execute_input": "2024-05-15T03:20:56.022567Z",
     "iopub.status.busy": "2024-05-15T03:20:56.022126Z",
     "iopub.status.idle": "2024-05-15T03:20:56.050535Z",
     "shell.execute_reply": "2024-05-15T03:20:56.049493Z",
     "shell.execute_reply.started": "2024-05-15T03:20:56.022531Z"
    },
    "id": "acvWDr2k-983",
    "outputId": "1318f3e9-bef0-4864-ca90-188788d88bb3"
   },
   "outputs": [],
   "source": [
    "# Lets try Logistic regression now\n",
    "from sklearn.linear_model import LogisticRegression\n",
    "log_model = LogisticRegression(random_state=20, penalty='l2').fit(X_train, y_train)\n",
    "log_pred=log_model.predict(X_test)\n",
    "log_model.score(X_test, y_test)"
   ]
  },
  {
   "cell_type": "markdown",
   "metadata": {
    "id": "g4FG8fltpvRr"
   },
   "source": [
    "###SVC"
   ]
  },
  {
   "cell_type": "code",
   "execution_count": null,
   "metadata": {
    "execution": {
     "iopub.execute_input": "2024-05-15T03:20:56.052617Z",
     "iopub.status.busy": "2024-05-15T03:20:56.052196Z",
     "iopub.status.idle": "2024-05-15T03:20:56.088402Z",
     "shell.execute_reply": "2024-05-15T03:20:56.087561Z",
     "shell.execute_reply.started": "2024-05-15T03:20:56.052582Z"
    },
    "id": "C-VvIB1wovy2",
    "outputId": "b8a75210-3620-474e-bf9a-e9680e67a1e7"
   },
   "outputs": [],
   "source": [
    "from sklearn import svm\n",
    "svm_model = svm.SVC().fit(X_train, y_train)\n",
    "svm_pred=svm_model.predict(X_test)\n",
    "svm_model.score(X_test, y_test)"
   ]
  },
  {
   "cell_type": "markdown",
   "metadata": {
    "id": "7clERX5Bs0fs"
   },
   "source": [
    "Model Accuracy Confirmation"
   ]
  },
  {
   "cell_type": "code",
   "execution_count": null,
   "metadata": {
    "execution": {
     "iopub.execute_input": "2024-05-15T03:20:56.090143Z",
     "iopub.status.busy": "2024-05-15T03:20:56.089799Z",
     "iopub.status.idle": "2024-05-15T03:20:56.095901Z",
     "shell.execute_reply": "2024-05-15T03:20:56.094805Z",
     "shell.execute_reply.started": "2024-05-15T03:20:56.090114Z"
    },
    "id": "e03EGUNZpqZE"
   },
   "outputs": [],
   "source": [
    "def model_pref(pred, y_test):\n",
    "  cmp = []\n",
    "  for i, j in zip(pred, y_test):\n",
    "    if i == j:\n",
    "      cmp.append(1)\n",
    "    else:\n",
    "      cmp.append(0)\n",
    "  return cmp"
   ]
  },
  {
   "cell_type": "code",
   "execution_count": null,
   "metadata": {
    "execution": {
     "iopub.execute_input": "2024-05-15T03:20:56.097603Z",
     "iopub.status.busy": "2024-05-15T03:20:56.097278Z",
     "iopub.status.idle": "2024-05-15T03:20:56.108254Z",
     "shell.execute_reply": "2024-05-15T03:20:56.107178Z",
     "shell.execute_reply.started": "2024-05-15T03:20:56.09757Z"
    },
    "id": "B95nMn86r-pj"
   },
   "outputs": [],
   "source": [
    "cmp =model_pref(svm_pred, y_test)"
   ]
  },
  {
   "cell_type": "code",
   "execution_count": null,
   "metadata": {
    "execution": {
     "iopub.execute_input": "2024-05-15T03:20:56.110299Z",
     "iopub.status.busy": "2024-05-15T03:20:56.109995Z",
     "iopub.status.idle": "2024-05-15T03:20:56.120548Z",
     "shell.execute_reply": "2024-05-15T03:20:56.119239Z",
     "shell.execute_reply.started": "2024-05-15T03:20:56.110274Z"
    },
    "id": "Ua0naiLPsFfP",
    "outputId": "9363c38e-0c0e-4572-c77a-247315c0d2ff"
   },
   "outputs": [],
   "source": [
    "print(\"Model Accuracy Confirmation: \" +str(cmp.count(1)/len(y_test)))"
   ]
  },
  {
   "cell_type": "markdown",
   "metadata": {
    "id": "OoV90AvltAnc"
   },
   "source": [
    "###RandomForest"
   ]
  },
  {
   "cell_type": "code",
   "execution_count": null,
   "metadata": {
    "execution": {
     "iopub.execute_input": "2024-05-15T03:20:56.12285Z",
     "iopub.status.busy": "2024-05-15T03:20:56.122423Z",
     "iopub.status.idle": "2024-05-15T03:20:56.504098Z",
     "shell.execute_reply": "2024-05-15T03:20:56.502855Z",
     "shell.execute_reply.started": "2024-05-15T03:20:56.122814Z"
    },
    "id": "bPBpZBCAsbqT",
    "outputId": "1f3e112e-663a-4f43-da8b-de1777c67fe7"
   },
   "outputs": [],
   "source": [
    "from sklearn.ensemble import RandomForestClassifier\n",
    "rf_model = RandomForestClassifier(max_depth=2, random_state=20).fit(X_train, y_train)\n",
    "rf_pred=rf_model.predict(X_test)\n",
    "rf_model.score(X_test, y_test)"
   ]
  },
  {
   "cell_type": "markdown",
   "metadata": {
    "id": "tEiQGgeOPbGF"
   },
   "source": [
    "###Training Deep neural network"
   ]
  },
  {
   "cell_type": "code",
   "execution_count": null,
   "metadata": {
    "execution": {
     "iopub.execute_input": "2024-05-15T03:20:56.506091Z",
     "iopub.status.busy": "2024-05-15T03:20:56.50567Z",
     "iopub.status.idle": "2024-05-15T03:21:11.297383Z",
     "shell.execute_reply": "2024-05-15T03:21:11.29621Z",
     "shell.execute_reply.started": "2024-05-15T03:20:56.506059Z"
    },
    "id": "9PjcaiQUtLUM"
   },
   "outputs": [],
   "source": [
    "import tensorflow as tf\n",
    "def build_model():\n",
    "  model = tf.keras.Sequential([\n",
    "      tf.keras.layers.Dense(8, activation = 'relu', input_shape=[len(X_train.keys())]),\n",
    "      tf.keras.layers.Dense(4, activation = 'relu'),\n",
    "      tf.keras.layers.Dense(2, activation = 'relu'),\n",
    "      tf.keras.layers.Dense(1, activation = 'sigmoid')\n",
    "\n",
    "  ])\n",
    "\n",
    "\n",
    "  optimizer = tf.keras.optimizers.Adam(learning_rate=0.01, beta_1=0.9, beta_2=0.999, epsilon=1e-07)\n",
    "  model.compile(loss= 'binary_crossentropy', optimizer = optimizer, metrics = ['accuracy'])\n",
    "  return model\n",
    "neural_model = build_model()"
   ]
  },
  {
   "cell_type": "code",
   "execution_count": null,
   "metadata": {
    "execution": {
     "iopub.execute_input": "2024-05-15T03:21:11.299619Z",
     "iopub.status.busy": "2024-05-15T03:21:11.298816Z",
     "iopub.status.idle": "2024-05-15T03:21:11.329248Z",
     "shell.execute_reply": "2024-05-15T03:21:11.327081Z",
     "shell.execute_reply.started": "2024-05-15T03:21:11.299578Z"
    },
    "id": "ngQMjd8BvRvN",
    "outputId": "b683c9ed-da6a-417e-b3e7-4406e67cee19"
   },
   "outputs": [],
   "source": [
    "neural_model.summary()"
   ]
  },
  {
   "cell_type": "markdown",
   "metadata": {
    "id": "vYvc1dEmHo9X"
   },
   "source": [
    "Fit Neural model on dataset."
   ]
  },
  {
   "cell_type": "code",
   "execution_count": null,
   "metadata": {
    "execution": {
     "iopub.execute_input": "2024-05-15T03:21:11.331525Z",
     "iopub.status.busy": "2024-05-15T03:21:11.330822Z",
     "iopub.status.idle": "2024-05-15T03:23:08.954705Z",
     "shell.execute_reply": "2024-05-15T03:23:08.953751Z",
     "shell.execute_reply.started": "2024-05-15T03:21:11.331465Z"
    },
    "id": "s7w0aAhJG3-f",
    "outputId": "c82ba12c-e4f5-4da5-c345-b20af5761a2a"
   },
   "outputs": [],
   "source": [
    "neural_pred = neural_model.fit(X_train, y_train, validation_split=0.1, verbose=2, epochs=1000)"
   ]
  },
  {
   "cell_type": "code",
   "execution_count": null,
   "metadata": {
    "execution": {
     "iopub.execute_input": "2024-05-15T03:23:08.957514Z",
     "iopub.status.busy": "2024-05-15T03:23:08.95657Z",
     "iopub.status.idle": "2024-05-15T03:23:08.975405Z",
     "shell.execute_reply": "2024-05-15T03:23:08.973957Z",
     "shell.execute_reply.started": "2024-05-15T03:23:08.957473Z"
    },
    "id": "5xa0NIi-ILEl",
    "outputId": "2445e750-eab7-4c9e-cc03-731809d2b3ba"
   },
   "outputs": [],
   "source": [
    "# Lets measure final performance\n",
    "hist = pd.DataFrame(neural_pred.history)\n",
    "hist['epoch'] = neural_pred.epoch\n",
    "hist.tail()"
   ]
  },
  {
   "cell_type": "code",
   "execution_count": null,
   "metadata": {
    "execution": {
     "iopub.execute_input": "2024-05-15T03:23:08.981388Z",
     "iopub.status.busy": "2024-05-15T03:23:08.981015Z",
     "iopub.status.idle": "2024-05-15T03:23:09.177267Z",
     "shell.execute_reply": "2024-05-15T03:23:09.175865Z",
     "shell.execute_reply.started": "2024-05-15T03:23:08.981359Z"
    },
    "id": "0EPgaU-3GLIf",
    "outputId": "53a552f8-63ad-4de2-a64f-0e51a01ccd00"
   },
   "outputs": [],
   "source": [
    "neural_test = neural_model.predict(X_test)"
   ]
  },
  {
   "cell_type": "code",
   "execution_count": null,
   "metadata": {
    "execution": {
     "iopub.execute_input": "2024-05-15T03:23:09.180261Z",
     "iopub.status.busy": "2024-05-15T03:23:09.179361Z",
     "iopub.status.idle": "2024-05-15T03:23:09.186362Z",
     "shell.execute_reply": "2024-05-15T03:23:09.185147Z",
     "shell.execute_reply.started": "2024-05-15T03:23:09.180225Z"
    },
    "id": "i2dYRKOnH8lO"
   },
   "outputs": [],
   "source": [
    "neural_test_converted=[]\n",
    "for i in neural_test:\n",
    "    if i>0.5:\n",
    "        neural_test_converted.append(1)\n",
    "    else:\n",
    "        neural_test_converted.append(0)"
   ]
  },
  {
   "cell_type": "code",
   "execution_count": null,
   "metadata": {
    "execution": {
     "iopub.execute_input": "2024-05-15T03:23:09.187859Z",
     "iopub.status.busy": "2024-05-15T03:23:09.187537Z",
     "iopub.status.idle": "2024-05-15T03:23:09.197798Z",
     "shell.execute_reply": "2024-05-15T03:23:09.196933Z",
     "shell.execute_reply.started": "2024-05-15T03:23:09.187833Z"
    },
    "id": "dp3rDiWtITG4"
   },
   "outputs": [],
   "source": [
    "cmp = model_pref(neural_test_converted, y_test)"
   ]
  },
  {
   "cell_type": "code",
   "execution_count": null,
   "metadata": {
    "execution": {
     "iopub.execute_input": "2024-05-15T03:23:09.199725Z",
     "iopub.status.busy": "2024-05-15T03:23:09.198862Z",
     "iopub.status.idle": "2024-05-15T03:23:09.210728Z",
     "shell.execute_reply": "2024-05-15T03:23:09.209505Z",
     "shell.execute_reply.started": "2024-05-15T03:23:09.199692Z"
    },
    "id": "c2_dVl3EIvmd",
    "outputId": "3304617c-4940-4d94-a0a9-3d1219728258"
   },
   "outputs": [],
   "source": [
    "print(\"Test Accuracy: \",str(round(cmp.count(1)/ len(y_test)*100,2))+\"%\")"
   ]
  },
  {
   "cell_type": "markdown",
   "metadata": {
    "id": "WgIO_diZKYS-"
   },
   "source": [
    "SVM is Good to go"
   ]
  },
  {
   "cell_type": "markdown",
   "metadata": {
    "id": "tSzrNDqpKw_m"
   },
   "source": [
    "Save the model"
   ]
  },
  {
   "cell_type": "code",
   "execution_count": null,
   "metadata": {
    "execution": {
     "iopub.execute_input": "2024-05-15T03:23:09.212403Z",
     "iopub.status.busy": "2024-05-15T03:23:09.212095Z",
     "iopub.status.idle": "2024-05-15T03:23:09.223618Z",
     "shell.execute_reply": "2024-05-15T03:23:09.222525Z",
     "shell.execute_reply.started": "2024-05-15T03:23:09.212377Z"
    },
    "id": "TfLPX_ZXKiTb"
   },
   "outputs": [],
   "source": [
    "import pickle\n",
    "pickle.dump(svm_model, open(\"svm_model.pkl\", 'wb') )"
   ]
  }
 ],
 "metadata": {
  "colab": {
   "provenance": []
  },
  "kaggle": {
   "accelerator": "none",
   "dataSources": [
    {
     "datasetId": 228,
     "sourceId": 482,
     "sourceType": "datasetVersion"
    }
   ],
   "dockerImageVersionId": 30698,
   "isGpuEnabled": false,
   "isInternetEnabled": false,
   "language": "python",
   "sourceType": "notebook"
  },
  "kernelspec": {
   "display_name": "Python 3 (ipykernel)",
   "language": "python",
   "name": "python3"
  },
  "language_info": {
   "codemirror_mode": {
    "name": "ipython",
    "version": 3
   },
   "file_extension": ".py",
   "mimetype": "text/x-python",
   "name": "python",
   "nbconvert_exporter": "python",
   "pygments_lexer": "ipython3",
   "version": "3.11.6"
  }
 },
 "nbformat": 4,
 "nbformat_minor": 4
}
